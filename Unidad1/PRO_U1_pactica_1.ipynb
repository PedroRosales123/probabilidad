{
  "nbformat": 4,
  "nbformat_minor": 0,
  "metadata": {
    "colab": {
      "provenance": [],
      "name": "PRO_U1_pactica_1.ipynb",
      "authorship_tag": "ABX9TyNNX8FtrWRUjhuWzM88wnGs",
      "include_colab_link": true
    },
    "kernelspec": {
      "name": "python3",
      "display_name": "Python 3"
    },
    "language_info": {
      "name": "python"
    }
  },
  "cells": [
    {
      "cell_type": "markdown",
      "metadata": {
        "id": "view-in-github",
        "colab_type": "text"
      },
      "source": [
        "<a href=\"https://colab.research.google.com/github/PedroRosales123/probabilidad/blob/main/Unidad1/PRO_U1_pactica_1.ipynb\" target=\"_parent\"><img src=\"https://colab.research.google.com/assets/colab-badge.svg\" alt=\"Open In Colab\"/></a>"
      ]
    },
    {
      "cell_type": "markdown",
      "source": [
        "# **PROBABILIDAD Y ESTADISTICA**\n",
        "\n",
        "## GRUPO 2Y\n",
        "\n",
        "# **UNIDAD 1**\n",
        "\n",
        "DOCENTE: Jose Gabriel Rodriguez Rivas\n",
        "\n",
        "Alumno:\n",
        "\n",
        "**Practica 1: Medidas de tendencia central e histogramas**"
      ],
      "metadata": {
        "id": "WlSjC8hYHw3V"
      }
    },
    {
      "cell_type": "code",
      "source": [
        "from statistics import *"
      ],
      "metadata": {
        "id": "LYtZawv72G0u"
      },
      "execution_count": 30,
      "outputs": []
    },
    {
      "cell_type": "code",
      "source": [
        "# Lista de calificaciones del grupo a\n",
        "grupoa = [70,70,65,90,100,95,45,80,73,20,100,96]\n",
        "print(grupoa)\n"
      ],
      "metadata": {
        "colab": {
          "base_uri": "https://localhost:8080/"
        },
        "id": "Yz3rK5TX2soY",
        "outputId": "32f1185f-fa61-4e9d-c9dd-4ca6d97d519b"
      },
      "execution_count": 31,
      "outputs": [
        {
          "output_type": "stream",
          "name": "stdout",
          "text": [
            "[70, 70, 65, 90, 100, 95, 45, 80, 73, 20, 100, 96]\n"
          ]
        }
      ]
    },
    {
      "cell_type": "code",
      "source": [
        "type(grupoa)\n"
      ],
      "metadata": {
        "colab": {
          "base_uri": "https://localhost:8080/"
        },
        "id": "TKMWVDfW3N6w",
        "outputId": "63d9b77c-1402-477f-b49b-45d74cda70ed"
      },
      "execution_count": 32,
      "outputs": [
        {
          "output_type": "execute_result",
          "data": {
            "text/plain": [
              "list"
            ]
          },
          "metadata": {},
          "execution_count": 32
        }
      ]
    },
    {
      "cell_type": "code",
      "source": [
        "promedio = sum(grupoa)/len(grupoa)\n",
        "print(promedio)"
      ],
      "metadata": {
        "colab": {
          "base_uri": "https://localhost:8080/"
        },
        "id": "HOC_vbMm39UQ",
        "outputId": "8343eca8-c850-454d-8edf-e63662a554f5"
      },
      "execution_count": 33,
      "outputs": [
        {
          "output_type": "stream",
          "name": "stdout",
          "text": [
            "75.33333333333333\n"
          ]
        }
      ]
    },
    {
      "cell_type": "code",
      "source": [
        "promedio2 = mean(grupoa)\n",
        "print(promedio2)"
      ],
      "metadata": {
        "id": "Qb0fP1uO4a4R",
        "colab": {
          "base_uri": "https://localhost:8080/"
        },
        "outputId": "432a7732-8dd9-4de9-f321-0c45373f35fa"
      },
      "execution_count": 34,
      "outputs": [
        {
          "output_type": "stream",
          "name": "stdout",
          "text": [
            "75.33333333333333\n"
          ]
        }
      ]
    },
    {
      "cell_type": "code",
      "source": [
        "mediana = median(grupoa)\n",
        "print(mediana)"
      ],
      "metadata": {
        "colab": {
          "base_uri": "https://localhost:8080/"
        },
        "id": "7rSQtyl24qHW",
        "outputId": "961d8aea-f8e7-4030-c532-97f0ec96b5ad"
      },
      "execution_count": 35,
      "outputs": [
        {
          "output_type": "stream",
          "name": "stdout",
          "text": [
            "76.5\n"
          ]
        }
      ]
    },
    {
      "cell_type": "code",
      "source": [
        "moda = mode (grupoa)\n",
        "print(moda)"
      ],
      "metadata": {
        "colab": {
          "base_uri": "https://localhost:8080/"
        },
        "id": "K7S5fApB5W4L",
        "outputId": "0be9601d-bda9-48a3-b4a2-f4b962c61d0b"
      },
      "execution_count": 36,
      "outputs": [
        {
          "output_type": "stream",
          "name": "stdout",
          "text": [
            "70\n"
          ]
        }
      ]
    },
    {
      "cell_type": "code",
      "source": [
        "moda2 = multimode(grupoa)\n",
        "print(moda2)"
      ],
      "metadata": {
        "colab": {
          "base_uri": "https://localhost:8080/"
        },
        "id": "QpNK0nKt5oSw",
        "outputId": "9c43c4ae-19af-4a45-c820-42ccd853dad8"
      },
      "execution_count": 37,
      "outputs": [
        {
          "output_type": "stream",
          "name": "stdout",
          "text": [
            "[70, 100]\n"
          ]
        }
      ]
    },
    {
      "cell_type": "code",
      "source": [
        "tiempos100mts = [15.10,17.20,14.69,13.27,22.15,18.17,19.15,20.11,15.10,17.20]\n",
        "print(tiempos100mts)"
      ],
      "metadata": {
        "colab": {
          "base_uri": "https://localhost:8080/"
        },
        "id": "GNFFsKgg6ADb",
        "outputId": "ab39905d-9e2c-4239-8b94-b362a78bd824"
      },
      "execution_count": 38,
      "outputs": [
        {
          "output_type": "stream",
          "name": "stdout",
          "text": [
            "[15.1, 17.2, 14.69, 13.27, 22.15, 18.17, 19.15, 20.11, 15.1, 17.2]\n"
          ]
        }
      ]
    },
    {
      "cell_type": "code",
      "source": [
        "print(\"El tiempo promedio de los corredores es=\",  mean (tiempos100mts))"
      ],
      "metadata": {
        "colab": {
          "base_uri": "https://localhost:8080/"
        },
        "id": "ShEtCc-76Wc9",
        "outputId": "6fabacee-2afa-4e5d-fea8-f8039c8db226"
      },
      "execution_count": 39,
      "outputs": [
        {
          "output_type": "stream",
          "name": "stdout",
          "text": [
            "El tiempo promedio de los corredores es= 17.214\n"
          ]
        }
      ]
    },
    {
      "cell_type": "code",
      "source": [
        "print(\"La mediana de los corredores es =\",  median(tiempos100mts))"
      ],
      "metadata": {
        "colab": {
          "base_uri": "https://localhost:8080/"
        },
        "id": "AA56YPbN7SIX",
        "outputId": "b42d2549-5b79-47eb-861b-d8e1746b671b"
      },
      "execution_count": 40,
      "outputs": [
        {
          "output_type": "stream",
          "name": "stdout",
          "text": [
            "La mediana de los corredores es = 17.2\n"
          ]
        }
      ]
    },
    {
      "cell_type": "code",
      "source": [
        "print(\"La moda del tiempo de los corredores es =\", mode(tiempos100mts))"
      ],
      "metadata": {
        "colab": {
          "base_uri": "https://localhost:8080/"
        },
        "id": "Aq0wHUaF7qPn",
        "outputId": "068d1ee6-0ede-4d81-a931-b8318183d2be"
      },
      "execution_count": 41,
      "outputs": [
        {
          "output_type": "stream",
          "name": "stdout",
          "text": [
            "La moda del tiempo de los corredores es = 15.1\n"
          ]
        }
      ]
    },
    {
      "cell_type": "code",
      "source": [
        "print(\"La multi moda del tiempo de los corredores es =\", multimode(tiempos100mts))"
      ],
      "metadata": {
        "colab": {
          "base_uri": "https://localhost:8080/"
        },
        "id": "3FEZ_Jvh8Nrr",
        "outputId": "0a6646a9-0be7-41ae-e72d-c70d5a8de6d3"
      },
      "execution_count": 42,
      "outputs": [
        {
          "output_type": "stream",
          "name": "stdout",
          "text": [
            "La multi moda del tiempo de los corredores es = [15.1, 17.2]\n"
          ]
        }
      ]
    },
    {
      "cell_type": "code",
      "source": [
        "import random"
      ],
      "metadata": {
        "id": "fSe_LpGV8mta"
      },
      "execution_count": 43,
      "outputs": []
    },
    {
      "cell_type": "code",
      "source": [
        "fabrica1 = []\n",
        "for i in range(100):\n",
        "  numero_aleatorio = round (random.uniform(50, 100),2)\n",
        "  fabrica1.append(numero_aleatorio)\n",
        "print(fabrica1)"
      ],
      "metadata": {
        "colab": {
          "base_uri": "https://localhost:8080/"
        },
        "id": "JC69AYye9AoF",
        "outputId": "b5b040d8-7b48-428f-8a9e-0ba0754dd707"
      },
      "execution_count": 44,
      "outputs": [
        {
          "output_type": "stream",
          "name": "stdout",
          "text": [
            "[59.15, 96.41, 75.96, 64.12, 67.29, 69.85, 71.26, 58.65, 62.27, 83.55, 91.6, 80.92, 72.29, 80.43, 69.04, 70.6, 64.87, 80.9, 92.91, 86.19, 94.71, 80.91, 87.31, 73.06, 55.0, 75.45, 71.73, 64.71, 63.59, 93.07, 59.51, 52.33, 65.28, 99.58, 77.55, 95.29, 51.21, 53.46, 57.76, 69.65, 72.35, 58.08, 58.95, 50.04, 58.07, 98.16, 88.47, 68.95, 74.81, 57.03, 90.82, 64.13, 61.36, 61.79, 53.85, 53.42, 67.2, 58.57, 58.17, 80.61, 96.77, 62.69, 81.7, 68.07, 93.45, 94.62, 98.1, 56.48, 50.2, 82.83, 57.72, 70.13, 57.21, 53.0, 80.69, 95.43, 90.73, 50.08, 57.6, 70.62, 98.06, 57.61, 97.65, 93.64, 74.49, 81.56, 78.66, 98.7, 98.05, 68.16, 56.74, 94.72, 87.31, 52.23, 56.27, 71.25, 91.63, 69.59, 84.19, 81.23]\n"
          ]
        }
      ]
    },
    {
      "cell_type": "code",
      "source": [
        "fabrica2 = []\n",
        "for i in range(100):\n",
        "  numero_aleatorio = round (random.uniform(40, 93),2)\n",
        "  fabrica2.append(numero_aleatorio)\n",
        "print(fabrica2)"
      ],
      "metadata": {
        "id": "tK0z0U_x-rP7",
        "colab": {
          "base_uri": "https://localhost:8080/"
        },
        "outputId": "527acec5-1642-4c1e-c186-65c3e07b3bf0"
      },
      "execution_count": 45,
      "outputs": [
        {
          "output_type": "stream",
          "name": "stdout",
          "text": [
            "[92.12, 55.96, 52.02, 55.59, 91.41, 44.42, 62.59, 56.69, 78.0, 51.38, 64.97, 70.24, 84.14, 51.83, 90.47, 45.59, 91.51, 86.3, 86.5, 59.23, 56.65, 68.52, 59.17, 72.0, 51.93, 45.97, 79.48, 56.31, 92.91, 61.97, 57.68, 74.49, 72.81, 59.38, 69.07, 54.48, 80.04, 57.42, 81.81, 70.78, 58.29, 54.04, 89.03, 52.6, 64.65, 86.52, 88.05, 54.19, 64.22, 42.74, 88.1, 83.9, 75.4, 54.06, 75.15, 53.62, 89.53, 85.96, 55.85, 92.36, 78.46, 91.28, 76.37, 69.5, 61.3, 80.97, 60.2, 63.36, 51.01, 65.21, 58.66, 72.16, 72.7, 74.68, 89.89, 53.39, 44.74, 63.89, 80.01, 78.47, 91.31, 84.39, 43.39, 52.83, 60.07, 87.96, 88.72, 74.38, 73.73, 50.45, 63.52, 62.98, 50.44, 42.37, 63.07, 47.71, 61.43, 90.86, 71.08, 58.77]\n"
          ]
        }
      ]
    },
    {
      "cell_type": "code",
      "source": [
        "import matplotlib.pyplot as plt"
      ],
      "metadata": {
        "id": "C_6XBRHPAkxh"
      },
      "execution_count": 46,
      "outputs": []
    },
    {
      "cell_type": "code",
      "source": [
        "plt.hist(fabrica1)\n",
        "plt.title(\"produccion diaria de la fabrica 1\")"
      ],
      "metadata": {
        "colab": {
          "base_uri": "https://localhost:8080/",
          "height": 470
        },
        "id": "sCXBfs-hBVPj",
        "outputId": "a7bb84a8-428c-4024-eead-5d4a1117c696"
      },
      "execution_count": 47,
      "outputs": [
        {
          "output_type": "execute_result",
          "data": {
            "text/plain": [
              "Text(0.5, 1.0, 'produccion diaria de la fabrica 1')"
            ]
          },
          "metadata": {},
          "execution_count": 47
        },
        {
          "output_type": "display_data",
          "data": {
            "text/plain": [
              "<Figure size 640x480 with 1 Axes>"
            ],
            "image/png": "[encoded data removed]"
          },
          "metadata": {}
        }
      ]
    },
    {
      "cell_type": "code",
      "source": [],
      "metadata": {
        "id": "8m5Rg5RuDDIw"
      },
      "execution_count": 47,
      "outputs": []
    },
    {
      "cell_type": "code",
      "source": [
        "plt.hist(fabrica2)\n",
        "plt.title(\"produccion diaria de la fabrica 2\")\n"
      ],
      "metadata": {
        "id": "AXrKKkHhCpzI",
        "outputId": "0e034efd-b682-433b-cae8-d247a69bc047",
        "colab": {
          "base_uri": "https://localhost:8080/",
          "height": 470
        }
      },
      "execution_count": 48,
      "outputs": [
        {
          "output_type": "execute_result",
          "data": {
            "text/plain": [
              "Text(0.5, 1.0, 'produccion diaria de la fabrica 2')"
            ]
          },
          "metadata": {},
          "execution_count": 48
        },
        {
          "output_type": "display_data",
          "data": {
            "text/plain": [
              "<Figure size 640x480 with 1 Axes>"
            ],
            "image/png": "[encoded data removed]"
          },
          "metadata": {}
        }
      ]
    },
    {
      "cell_type": "code",
      "source": [
        "media1 = mean(fabrica1)\n",
        "mediana1 = median(fabrica1)\n",
        "moda1 = mode(fabrica1)\n",
        "print(\"Valores de la fabrica 1:\")\n",
        "print(\"La media es= \", media1)\n",
        "print(\"La mediana es = \", mediana1)\n",
        "print(\"La moda es = \", moda1)"
      ],
      "metadata": {
        "id": "kyRq5HX8DF_N",
        "outputId": "e23828f5-ee54-4ffe-a1a4-7f3e96f9f163",
        "colab": {
          "base_uri": "https://localhost:8080/"
        }
      },
      "execution_count": 49,
      "outputs": [
        {
          "output_type": "stream",
          "name": "stdout",
          "text": [
            "Valores de la fabrica 1:\n",
            "La media es=  73.3411\n",
            "La mediana es =  70.935\n",
            "La moda es =  87.31\n"
          ]
        }
      ]
    },
    {
      "cell_type": "code",
      "source": [
        "media2 = mean(fabrica2)\n",
        "mediana2 = median(fabrica2)\n",
        "moda2 = mode(fabrica2)\n",
        "print(\"Valores de la fabrica 2:\")\n",
        "print(\"La media es= \", media2)\n",
        "print(\"La mediana es = \", mediana2)\n",
        "print(\"La moda es = \", moda2)"
      ],
      "metadata": {
        "id": "v2RPlCFyDoC_",
        "outputId": "ee4a3e5c-4c41-488e-bae1-0045e152f5d4",
        "colab": {
          "base_uri": "https://localhost:8080/"
        }
      },
      "execution_count": 50,
      "outputs": [
        {
          "output_type": "stream",
          "name": "stdout",
          "text": [
            "Valores de la fabrica 2:\n",
            "La media es=  68.078\n",
            "La mediana es =  64.81\n",
            "La moda es =  92.12\n"
          ]
        }
      ]
    },
    {
      "cell_type": "code",
      "source": [
        "fig, (ax1, ax2) = plt.subplots(nrows=1, ncols=2, figsize=(10, 5))\n",
        "ax1.hist(fabrica1)\n",
        "ax2.hist(fabrica2)\n",
        "plt.show()"
      ],
      "metadata": {
        "id": "VQpiMJXUE7xl",
        "outputId": "41ab43ca-1d3f-4305-ee03-78a108cc25cb",
        "colab": {
          "base_uri": "https://localhost:8080/",
          "height": 445
        }
      },
      "execution_count": 51,
      "outputs": [
        {
          "output_type": "display_data",
          "data": {
            "text/plain": [
              "<Figure size 1000x500 with 2 Axes>"
            ],
            "image/png": "[encoded data removed]"
          },
          "metadata": {}
        }
      ]
    },
    {
      "cell_type": "code",
      "source": [
        "plt.hist(fabrica1, bins=10 , alpha=0.2, color='blue', edgecolor = 'black')\n",
        "plt.axvline(media1, color='blue', linestyle='dashed', linewidth=2, label='media')\n",
        "plt.axvline(mediana1, color='red', linestyle='dashed', linewidth=2, label='mediana')\n",
        "plt.axvline(moda1, color='yellow', linestyle='dashed', linewidth=2, label='moda')\n",
        "plt.xlabel('valor')\n",
        "plt.ylabel('frecuencia')\n",
        "plt.title('produccion diaria de la farica 1')\n",
        "plt.legend()\n",
        "plt.show()"
      ],
      "metadata": {
        "id": "Ve9GTS2pGqhc",
        "outputId": "c75a8df1-d111-48ef-f49a-5c6920e8be9d",
        "colab": {
          "base_uri": "https://localhost:8080/",
          "height": 472
        }
      },
      "execution_count": 56,
      "outputs": [
        {
          "output_type": "display_data",
          "data": {
            "text/plain": [
              "<Figure size 640x480 with 1 Axes>"
            ],
            "image/png": "[encoded data removed]"
          },
          "metadata": {}
        }
      ]
    },
    {
      "cell_type": "code",
      "source": [
        "plt.hist(fabrica2, bins=10 , alpha=0.2, color='blue', edgecolor = 'black')\n",
        "plt.axvline(media2, color='blue', linestyle='dashed', linewidth=2, label='media')\n",
        "plt.axvline(mediana2, color='red', linestyle='dashed', linewidth=2, label='mediana')\n",
        "plt.axvline(moda2, color='yellow', linestyle='dashed', linewidth=2, label='moda')\n",
        "plt.xlabel('valor')\n",
        "plt.ylabel('frecuencia')\n",
        "plt.title('produccion diaria de la farica 2')\n",
        "plt.legend()\n",
        "plt.show()"
      ],
      "metadata": {
        "id": "ChNJcLTBIS3N",
        "outputId": "87841b01-918c-4a9b-ef67-0888750e02ca",
        "colab": {
          "base_uri": "https://localhost:8080/",
          "height": 472
        }
      },
      "execution_count": 55,
      "outputs": [
        {
          "output_type": "display_data",
          "data": {
            "text/plain": [
              "<Figure size 640x480 with 1 Axes>"
            ],
            "image/png": "[encoded data removed]"
          },
          "metadata": {}
        }
      ]
    }
  ]
}