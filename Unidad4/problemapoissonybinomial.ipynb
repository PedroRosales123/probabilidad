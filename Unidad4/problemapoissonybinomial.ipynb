{
  "nbformat": 4,
  "nbformat_minor": 0,
  "metadata": {
    "colab": {
      "provenance": [],
      "authorship_tag": "ABX9TyOYewshUSNY/O5/CZKdfFmb",
      "include_colab_link": true
    },
    "kernelspec": {
      "name": "python3",
      "display_name": "Python 3"
    },
    "language_info": {
      "name": "python"
    }
  },
  "cells": [
    {
      "cell_type": "markdown",
      "metadata": {
        "id": "view-in-github",
        "colab_type": "text"
      },
      "source": [
        "<a href=\"https://colab.research.google.com/github/PedroRosales123/probabilidad/blob/main/Unidad4/problemapoissonybinomial.ipynb\" target=\"_parent\"><img src=\"https://colab.research.google.com/assets/colab-badge.svg\" alt=\"Open In Colab\"/></a>"
      ]
    },
    {
      "cell_type": "markdown",
      "source": [
        "# **PROBABILIDAD Y ESTADISTICA**\n",
        "\n",
        "## GRUPO 2Y\n",
        "\n",
        "# **UNIDAD 4**\n",
        "\n",
        "## PROBLEMAS POISSON Y BINOMIAL\n",
        "\n",
        "DOCENTE: Jose Gabriel Rodriguez Rivas\n",
        "\n",
        "Alumno:Pedro Alejandro Rosales Cano\n",
        "\n"
      ],
      "metadata": {
        "id": "ykmCWw1xp01a"
      }
    },
    {
      "cell_type": "code",
      "execution_count": 1,
      "metadata": {
        "colab": {
          "base_uri": "https://localhost:8080/"
        },
        "id": "QXIXSsJnkSN3",
        "outputId": "00840e74-2645-4891-ed53-6b74bf337de5"
      },
      "outputs": [
        {
          "output_type": "stream",
          "name": "stdout",
          "text": [
            "Probabilidad de que ingresen exactamente 2 personas: 0.0842\n",
            "Probabilidad de que ingresen más de 10 personas: 0.0137\n"
          ]
        }
      ],
      "source": [
        "import scipy.stats as stats\n",
        "\n",
        "\n",
        "\n",
        "lambda_poisson = 5\n",
        "\n",
        "\n",
        "\n",
        "k = 2\n",
        "prob_exact_2 = stats.poisson.pmf(k, lambda_poisson)\n",
        "\n",
        "\n",
        "\n",
        "prob_more_than_10 = 1 - stats.poisson.cdf(10, lambda_poisson)\n",
        "\n",
        "\n",
        "\n",
        "print(f\"Probabilidad de que ingresen exactamente 2 personas: {prob_exact_2:.4f}\")\n",
        "print(f\"Probabilidad de que ingresen más de 10 personas: {prob_more_than_10:.4f}\")\n",
        "\n"
      ]
    },
    {
      "cell_type": "code",
      "source": [
        "\n",
        "\n",
        "\n",
        "n = 1000\n",
        "p = 0.001\n",
        "\n",
        "\n",
        "k0 = 0\n",
        "prob_0 = stats.binom.pmf(k0, n, p)\n",
        "\n",
        "\n",
        "k3 = 3\n",
        "prob_3 = stats.binom.pmf(k3, n, p)\n",
        "\n",
        "\n",
        "k4 = 4\n",
        "prob_4 = stats.binom.pmf(k4, n, p)\n",
        "\n",
        "print(f\"Probabilidad de que ninguno sea defectuoso: {prob_0:.6f}\")\n",
        "print(f\"Probabilidad de que tres sean defectuosos: {prob_3:.6f}\")\n",
        "print(f\"Probabilidad de que cuatro sean defectuosos: {prob_4:.6f}\")"
      ],
      "metadata": {
        "colab": {
          "base_uri": "https://localhost:8080/"
        },
        "id": "mnHpDYFfokoX",
        "outputId": "a990658a-7507-4c9f-fb8c-ecd74d3c966f"
      },
      "execution_count": 2,
      "outputs": [
        {
          "output_type": "stream",
          "name": "stdout",
          "text": [
            "Probabilidad de que ninguno sea defectuoso: 0.367695\n",
            "Probabilidad de que tres sean defectuosos: 0.061283\n",
            "Probabilidad de que cuatro sean defectuosos: 0.015290\n"
          ]
        }
      ]
    }
  ]
}