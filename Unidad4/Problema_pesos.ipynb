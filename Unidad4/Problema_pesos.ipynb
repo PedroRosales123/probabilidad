{
  "nbformat": 4,
  "nbformat_minor": 0,
  "metadata": {
    "colab": {
      "provenance": [],
      "authorship_tag": "ABX9TyMfcXzeT1Tlnrfy2dm/BLDJ",
      "include_colab_link": true
    },
    "kernelspec": {
      "name": "python3",
      "display_name": "Python 3"
    },
    "language_info": {
      "name": "python"
    }
  },
  "cells": [
    {
      "cell_type": "markdown",
      "metadata": {
        "id": "view-in-github",
        "colab_type": "text"
      },
      "source": [
        "<a href=\"https://colab.research.google.com/github/PedroRosales123/probabilidad/blob/main/Unidad4/Problema_pesos.ipynb\" target=\"_parent\"><img src=\"https://colab.research.google.com/assets/colab-badge.svg\" alt=\"Open In Colab\"/></a>"
      ]
    },
    {
      "cell_type": "code",
      "execution_count": 4,
      "metadata": {
        "colab": {
          "base_uri": "https://localhost:8080/"
        },
        "id": "URif-rFThe3Q",
        "outputId": "939da6d2-8d55-4d26-b7df-5bff7105c840"
      },
      "outputs": [
        {
          "output_type": "stream",
          "name": "stdout",
          "text": [
            "Probabilidad de que un estudiante pese entre 68kg y 72kg: 0.383\n",
            "Número estimado de estudiantes que pesan entre 68kg y 72kg: 191\n"
          ]
        }
      ],
      "source": [
        "\n",
        "import scipy.stats as stats\n",
        "\n",
        "\n",
        "mean = 70\n",
        "std_dev = 4\n",
        "Peso_inferior = 68\n",
        "Peso_superior = 72\n",
        "total_students = 500\n",
        "\n",
        "\n",
        "inferior = (Peso_inferior - mean) / std_dev\n",
        "Superior = (Peso_superior - mean) / std_dev\n",
        "\n",
        "\n",
        "Probabilidad = stats.norm.cdf(Superior) - stats.norm.cdf(inferior)\n",
        "\n",
        "\n",
        "EstudiantesRango = Probabilidad * total_students\n",
        "\n",
        "print(f\"Probabilidad de que un estudiante pese entre {Peso_inferior}kg y {Peso_superior}kg: {Probabilidad:.3f}\")\n",
        "print(f\"Número estimado de estudiantes que pesan entre {Peso_inferior}kg y {Peso_superior}kg: {EstudiantesRango:.0f}\")"
      ]
    }
  ]
}