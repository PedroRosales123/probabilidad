{
  "nbformat": 4,
  "nbformat_minor": 0,
  "metadata": {
    "colab": {
      "provenance": [],
      "authorship_tag": "ABX9TyPybzMPEdAHHNNSlVYdI4LF",
      "include_colab_link": true
    },
    "kernelspec": {
      "name": "python3",
      "display_name": "Python 3"
    },
    "language_info": {
      "name": "python"
    }
  },
  "cells": [
    {
      "cell_type": "markdown",
      "metadata": {
        "id": "view-in-github",
        "colab_type": "text"
      },
      "source": [
        "<a href=\"https://colab.research.google.com/github/PedroRosales123/probabilidad/blob/main/Unidad3/Ejercicio1.ipynb\" target=\"_parent\"><img src=\"https://colab.research.google.com/assets/colab-badge.svg\" alt=\"Open In Colab\"/></a>"
      ]
    },
    {
      "cell_type": "markdown",
      "source": [
        "# **PROBABILIDAD Y ESTADISTICA**\n",
        "\n",
        "## GRUPO 2Y\n",
        "\n",
        "# **UNIDAD 3**\n",
        "\n",
        "DOCENTE: Jose Gabriel Rodriguez Rivas\n",
        "\n",
        "Alumno:Pedro Alejandro Rosales Cano\n",
        "\n"
      ],
      "metadata": {
        "id": "_1s6ItHx4ewb"
      }
    },
    {
      "cell_type": "code",
      "execution_count": 11,
      "metadata": {
        "colab": {
          "base_uri": "https://localhost:8080/"
        },
        "id": "7L5x_eJ34d2k",
        "outputId": "b73e5a9d-a9df-49c4-8dbb-0b0098ba408f"
      },
      "outputs": [
        {
          "output_type": "stream",
          "name": "stdout",
          "text": [
            "Suma de probabilidades: 0.9999999999999999\n",
            " Distribución de probabilidad:\n",
            "P(X=0) = 0.1\n",
            "P(X=1) = 0.25\n",
            "P(X=2) = 0.3\n",
            "P(X=3) = 0.2\n",
            "P(X=4) = 0.1\n",
            "P(X=5) = 0.05\n",
            "\n",
            "3. Valor esperado (E[X]): 2.10\n",
            "Varianza (Var[X]): 1.69\n",
            "Desviación estándar (σ): 1.30\n"
          ]
        }
      ],
      "source": [
        "import numpy as np\n",
        "import matplotlib.pyplot as plt\n",
        "\n",
        "\n",
        "\n",
        "px = np.array([0.10, 0.25, 0.30, 0.20, 0.10, 0.05])\n",
        "\n",
        "\n",
        "suma_probabilidades = np.sum(px)\n",
        "print(f\"Suma de probabilidades: {suma_probabilidades}\")\n",
        "\n",
        "\n",
        "print(\" Distribución de probabilidad:\")\n",
        "for xi, pxi in zip(x, px):\n",
        "    print(f\"P(X={xi}) = {pxi}\")\n",
        "\n",
        "esperanza = np.sum(x * px)\n",
        "varianza = np.sum(((x - esperanza) ** 2) * px)\n",
        "desviacion = np.sqrt(varianza)\n",
        "\n",
        "print(f\"\\n3. Valor esperado (E[X]): {esperanza:.2f}\")\n",
        "print(f\"Varianza (Var[X]): {varianza:.2f}\")\n",
        "print(f\"Desviación estándar (σ): {desviacion:.2f}\")"
      ]
    },
    {
      "cell_type": "code",
      "source": [
        "\n",
        "cdf = np.cumsum(px)\n",
        "\n",
        "\n",
        "print(\"Función de distribución acumulada F(x):\")\n",
        "for xi, fi in zip(x, cdf):\n",
        "    print(f\"F({xi}) = {fi:.2f}\")\n",
        "\n",
        "\n",
        "plt.figure(figsize=(8, 5))\n",
        "plt.step(x, cdf, where='post', label='F(x)', color='blue')\n",
        "plt.scatter(x, cdf, color='red')\n",
        "plt.title(\"Función de distribución acumulada F(x)\")\n",
        "plt.xlabel(\"Número de células anormales (X)\")\n",
        "plt.ylabel(\"F(x)\")\n",
        "plt.grid(True)\n",
        "plt.xticks(x)\n",
        "plt.legend()\n",
        "plt.show()"
      ],
      "metadata": {
        "colab": {
          "base_uri": "https://localhost:8080/",
          "height": 615
        },
        "id": "mcVurARv4z21",
        "outputId": "b7675e74-5449-4179-b6c7-944e857c0d84"
      },
      "execution_count": 12,
      "outputs": [
        {
          "output_type": "stream",
          "name": "stdout",
          "text": [
            "Función de distribución acumulada F(x):\n",
            "F(0) = 0.10\n",
            "F(1) = 0.35\n",
            "F(2) = 0.65\n",
            "F(3) = 0.85\n",
            "F(4) = 0.95\n",
            "F(5) = 1.00\n"
          ]
        },
        {
          "output_type": "display_data",
          "data": {
            "text/plain": [
              "<Figure size 800x500 with 1 Axes>"
            ],
            "image/png": "[encoded data removed]"
          },
          "metadata": {}
        }
      ]
    },
    {
      "cell_type": "code",
      "source": [
        "print(\" Interpretación biomédica:\")\n",
        "print(f\" El promedio esperado de células anormales por muestra es {esperanza:.2f}.\")\n",
        "print(\" Esto significa que, en promedio, una muestra tiene entre 2 y 3 células anormales.\")\n",
        "print(f\" La desviación estándar es {desviacion:.2f}, lo que indica una variabilidad moderada.\")\n",
        "print(\" La función acumulada muestra que hay una probabilidad del 65% de encontrar 2 o menos células anormales en una muestra.\")\n",
        "print(\" La probabilidad de encontrar más de 3 células anormales es baja (F(3)=0.85, por lo tanto, P(X>3)=0.15).\")"
      ],
      "metadata": {
        "colab": {
          "base_uri": "https://localhost:8080/"
        },
        "id": "JxksMEL04-M1",
        "outputId": "68f126cc-81aa-4fde-ea07-65d3b526d5c1"
      },
      "execution_count": 13,
      "outputs": [
        {
          "output_type": "stream",
          "name": "stdout",
          "text": [
            " Interpretación biomédica:\n",
            " El promedio esperado de células anormales por muestra es 2.10.\n",
            " Esto significa que, en promedio, una muestra tiene entre 2 y 3 células anormales.\n",
            " La desviación estándar es 1.30, lo que indica una variabilidad moderada.\n",
            " La función acumulada muestra que hay una probabilidad del 65% de encontrar 2 o menos células anormales en una muestra.\n",
            " La probabilidad de encontrar más de 3 células anormales es baja (F(3)=0.85, por lo tanto, P(X>3)=0.15).\n"
          ]
        }
      ]
    }
  ]
}