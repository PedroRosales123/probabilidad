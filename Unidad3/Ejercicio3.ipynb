{
  "nbformat": 4,
  "nbformat_minor": 0,
  "metadata": {
    "colab": {
      "provenance": [],
      "authorship_tag": "ABX9TyOtO2LGCT07sNkFu+S2Nl/d",
      "include_colab_link": true
    },
    "kernelspec": {
      "name": "python3",
      "display_name": "Python 3"
    },
    "language_info": {
      "name": "python"
    }
  },
  "cells": [
    {
      "cell_type": "markdown",
      "metadata": {
        "id": "view-in-github",
        "colab_type": "text"
      },
      "source": [
        "<a href=\"https://colab.research.google.com/github/PedroRosales123/probabilidad/blob/main/Unidad3/Ejercicio3.ipynb\" target=\"_parent\"><img src=\"https://colab.research.google.com/assets/colab-badge.svg\" alt=\"Open In Colab\"/></a>"
      ]
    },
    {
      "cell_type": "markdown",
      "source": [
        "# **PROBABILIDAD Y ESTADISTICA**\n",
        "\n",
        "## GRUPO 2Y\n",
        "\n",
        "# **UNIDAD 3**\n",
        "\n",
        "DOCENTE: Jose Gabriel Rodriguez Rivas\n",
        "\n",
        "Alumno:Pedro Alejandro Rosales Cano\n",
        "\n"
      ],
      "metadata": {
        "id": "DE8aZtgF78ht"
      }
    },
    {
      "cell_type": "code",
      "execution_count": 3,
      "metadata": {
        "colab": {
          "base_uri": "https://localhost:8080/",
          "height": 928
        },
        "id": "r5cvtrPp6GnS",
        "outputId": "b4530b39-a526-4014-d279-777a008c8b29"
      },
      "outputs": [
        {
          "output_type": "stream",
          "name": "stdout",
          "text": [
            "Suma de probabilidades: 0.9999999999999999\n",
            "Distribución de probabilidad:\n",
            "   X  P(X)\n",
            "0  0  0.05\n",
            "1  1  0.10\n",
            "2  2  0.25\n",
            "3  3  0.30\n",
            "4  4  0.20\n",
            "5  5  0.10\n",
            "\n",
            "Valor esperado E(X): 2.80\n",
            "Varianza Var(X): 1.66\n",
            "Desviación estándar σ: 1.29\n",
            "\n",
            "Distribución acumulada F(x):\n",
            "   X  P(X)  F(X)\n",
            "0  0  0.05  0.05\n",
            "1  1  0.10  0.15\n",
            "2  2  0.25  0.40\n",
            "3  3  0.30  0.70\n",
            "4  4  0.20  0.90\n",
            "5  5  0.10  1.00\n"
          ]
        },
        {
          "output_type": "display_data",
          "data": {
            "text/plain": [
              "<Figure size 640x480 with 1 Axes>"
            ],
            "image/png": "[encoded data removed]"
          },
          "metadata": {}
        },
        {
          "output_type": "stream",
          "name": "stdout",
          "text": [
            "Interpretación:\n",
            "Se espera vender en promedio 2.80 unidades por semana.\n",
            " La desviación estándar es 1.29, lo cual indica que la demanda es variable.\n"
          ]
        }
      ],
      "source": [
        "import numpy as np\n",
        "import pandas as pd\n",
        "import matplotlib.pyplot as plt\n",
        "\n",
        "\n",
        "X = np.array([0, 1, 2, 3, 4, 5])\n",
        "P_X = np.array([0.05, 0.10, 0.25, 0.30, 0.20, 0.10])\n",
        "\n",
        "\n",
        "suma_probabilidades = np.sum(P_X)\n",
        "print(\"Suma de probabilidades:\", suma_probabilidades)\n",
        "\n",
        "\n",
        "tabla = pd.DataFrame({\n",
        "    \"X\": X,\n",
        "    \"P(X)\": P_X\n",
        "})\n",
        "print(\"Distribución de probabilidad:\")\n",
        "print(tabla)\n",
        "\n",
        "\n",
        "esperanza = np.sum(X * P_X)\n",
        "varianza = np.sum(((X - esperanza) ** 2) * P_X)\n",
        "desviacion = np.sqrt(varianza)\n",
        "\n",
        "print(f\"\\nValor esperado E(X): {esperanza:.2f}\")\n",
        "print(f\"Varianza Var(X): {varianza:.2f}\")\n",
        "print(f\"Desviación estándar σ: {desviacion:.2f}\")\n",
        "\n",
        "\n",
        "F_X = np.cumsum(P_X)\n",
        "tabla[\"F(X)\"] = F_X\n",
        "\n",
        "print(\"\\nDistribución acumulada F(x):\")\n",
        "print(tabla)\n",
        "\n",
        "\n",
        "plt.step(X, F_X, where='post', label=\"F(x)\", color='blue')\n",
        "plt.scatter(X, F_X, color='red')\n",
        "plt.title(\"Función de Distribución Acumulada F(x)\")\n",
        "plt.xlabel(\"Unidades vendidas (X)\")\n",
        "plt.ylabel(\"F(x)\")\n",
        "plt.grid(True)\n",
        "plt.legend()\n",
        "plt.show()\n",
        "\n",
        "\n",
        "print(\"Interpretación:\")\n",
        "print(f\"Se espera vender en promedio {esperanza:.2f} unidades por semana.\")\n",
        "print(f\" La desviación estándar es {desviacion:.2f}, lo cual indica que la demanda es {'estable' if desviacion < 1 else 'variable'}.\")\n"
      ]
    },
    {
      "cell_type": "code",
      "source": [],
      "metadata": {
        "id": "FJ-3ffKS6HsH"
      },
      "execution_count": null,
      "outputs": []
    }
  ]
}