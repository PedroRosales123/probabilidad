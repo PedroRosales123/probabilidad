{
  "nbformat": 4,
  "nbformat_minor": 0,
  "metadata": {
    "colab": {
      "provenance": [],
      "authorship_tag": "ABX9TyOyvxC2hF1kQv2OsMY1vHn4",
      "include_colab_link": true
    },
    "kernelspec": {
      "name": "python3",
      "display_name": "Python 3"
    },
    "language_info": {
      "name": "python"
    }
  },
  "cells": [
    {
      "cell_type": "markdown",
      "metadata": {
        "id": "view-in-github",
        "colab_type": "text"
      },
      "source": [
        "<a href=\"https://colab.research.google.com/github/PedroRosales123/probabilidad/blob/main/Unidad3/Ejercicio2.ipynb\" target=\"_parent\"><img src=\"https://colab.research.google.com/assets/colab-badge.svg\" alt=\"Open In Colab\"/></a>"
      ]
    },
    {
      "cell_type": "markdown",
      "source": [
        "# **PROBABILIDAD Y ESTADISTICA**\n",
        "\n",
        "## GRUPO 2Y\n",
        "\n",
        "# **UNIDAD 3**\n",
        "\n",
        "DOCENTE: Jose Gabriel Rodriguez Rivas\n",
        "\n",
        "Alumno:Pedro Alejandro Rosales Cano\n",
        "\n"
      ],
      "metadata": {
        "id": "Dwc_Pvlq75pT"
      }
    },
    {
      "cell_type": "code",
      "source": [
        "import numpy as np\n",
        "import matplotlib.pyplot as plt\n",
        "\n",
        "\n",
        "valores = np.array([0, 10, 20, 50])\n",
        "probabilidades = np.array([0.50, 0.30, 0.15, 0.05])\n",
        "\n",
        "\n",
        "suma_probabilidades = np.sum(probabilidades)\n",
        "print(\" Suma de probabilidades:\", suma_probabilidades)\n",
        "\n",
        "\n",
        "print(\" Distribución de probabilidad:\")\n",
        "for x, p in zip(valores, probabilidades):\n",
        "    print(f\"P(X = {x}) = {p}\")\n",
        "\n",
        "\n",
        "esperado = np.sum(valores * probabilidades)\n",
        "\n",
        "\n",
        "esperado_cuadrado = np.sum((valores**2) * probabilidades)\n",
        "varianza = esperado_cuadrado - esperado**2\n",
        "desviacion_estandar = np.sqrt(varianza)\n",
        "\n",
        "print(\" Cálculos:\")\n",
        "print(f\"Valor esperado E[X]: {esperado:.2f} pesos\")\n",
        "print(f\"Varianza: {varianza:.2f}\")\n",
        "print(f\"Desviación estándar: {desviacion_estandar:.2f}\")\n",
        "\n",
        "\n",
        "F_x = np.cumsum(probabilidades)\n",
        "\n",
        "print(\" Función de distribución acumulada F(x):\")\n",
        "for x, fx in zip(valores, F_x):\n",
        "    print(f\"F({x}) = {fx}\")\n",
        "\n",
        "\n",
        "plt.step(valores, F_x, where='post', label='F(x)')\n",
        "plt.xlabel('x (Premio)')\n",
        "plt.ylabel('F(x)')\n",
        "plt.title('Función de Distribución Acumulada')\n",
        "plt.grid(True)\n",
        "plt.xticks(valores)\n",
        "plt.ylim(0, 1.1)\n",
        "plt.legend()\n",
        "plt.show()\n",
        "\n",
        "print(\" Interpretación:\")\n",
        "\n",
        "print(f\" El valor esperado (ganancia promedio esperada) es de {esperado:.2f} pesos.\")\n",
        "print(\"  Esto significa que si el jugador compra muchos boletos, en promedio ganará ese monto por boleto.\")\n",
        "\n",
        "\n",
        "precio_boleto = 10\n",
        "\n",
        "if esperado > precio_boleto:\n",
        "    print(f\"• El boleto cuesta {precio_boleto} pesos, así que el juego es FAVORABLE para el jugador.\")\n",
        "elif esperado < precio_boleto:\n",
        "    print(f\"• El boleto cuesta {precio_boleto} pesos, así que el juego es DESFAVORABLE para el jugador.\")\n",
        "else:\n",
        "    print(f\"• El boleto cuesta {precio_boleto} pesos, así que el juego es JUSTO (ni favorable ni desfavorable).\")"
      ],
      "metadata": {
        "colab": {
          "base_uri": "https://localhost:8080/",
          "height": 818
        },
        "id": "P2otrsv15duh",
        "outputId": "3a740c77-07a7-4eb6-e643-1f112b7574e5"
      },
      "execution_count": 5,
      "outputs": [
        {
          "output_type": "stream",
          "name": "stdout",
          "text": [
            " Suma de probabilidades: 1.0\n",
            " Distribución de probabilidad:\n",
            "P(X = 0) = 0.5\n",
            "P(X = 10) = 0.3\n",
            "P(X = 20) = 0.15\n",
            "P(X = 50) = 0.05\n",
            " Cálculos:\n",
            "Valor esperado E[X]: 8.50 pesos\n",
            "Varianza: 142.75\n",
            "Desviación estándar: 11.95\n",
            " Función de distribución acumulada F(x):\n",
            "F(0) = 0.5\n",
            "F(10) = 0.8\n",
            "F(20) = 0.9500000000000001\n",
            "F(50) = 1.0\n"
          ]
        },
        {
          "output_type": "display_data",
          "data": {
            "text/plain": [
              "<Figure size 640x480 with 1 Axes>"
            ],
            "image/png": "[encoded data removed]"
          },
          "metadata": {}
        },
        {
          "output_type": "stream",
          "name": "stdout",
          "text": [
            " Interpretación:\n",
            " El valor esperado (ganancia promedio esperada) es de 8.50 pesos.\n",
            "  Esto significa que si el jugador compra muchos boletos, en promedio ganará ese monto por boleto.\n",
            "• El boleto cuesta 10 pesos, así que el juego es DESFAVORABLE para el jugador.\n"
          ]
        }
      ]
    }
  ]
}