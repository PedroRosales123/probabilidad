{
  "nbformat": 4,
  "nbformat_minor": 0,
  "metadata": {
    "colab": {
      "provenance": [],
      "authorship_tag": "ABX9TyOsH9X46PQ0Dl02r15yzwEu",
      "include_colab_link": true
    },
    "kernelspec": {
      "name": "python3",
      "display_name": "Python 3"
    },
    "language_info": {
      "name": "python"
    }
  },
  "cells": [
    {
      "cell_type": "markdown",
      "metadata": {
        "id": "view-in-github",
        "colab_type": "text"
      },
      "source": [
        "<a href=\"https://colab.research.google.com/github/PedroRosales123/probabilidad/blob/main/Pactica_1.ipynb\" target=\"_parent\"><img src=\"https://colab.research.google.com/assets/colab-badge.svg\" alt=\"Open In Colab\"/></a>"
      ]
    },
    {
      "cell_type": "code",
      "source": [
        "from statistics import *"
      ],
      "metadata": {
        "id": "LYtZawv72G0u"
      },
      "execution_count": 1,
      "outputs": []
    },
    {
      "cell_type": "code",
      "source": [
        "# Lista de calificaciones del grupo a\n",
        "grupoa = [70,70,65,90,100,95,45,80,73,20,100,96]\n",
        "print(grupoa)\n"
      ],
      "metadata": {
        "colab": {
          "base_uri": "https://localhost:8080/"
        },
        "id": "Yz3rK5TX2soY",
        "outputId": "bcc181cf-75bf-4724-d835-c13e0fedc542"
      },
      "execution_count": 2,
      "outputs": [
        {
          "output_type": "stream",
          "name": "stdout",
          "text": [
            "[70, 70, 65, 90, 100, 95, 45, 80, 73, 20, 100, 96]\n"
          ]
        }
      ]
    },
    {
      "cell_type": "code",
      "source": [
        "type(grupoa)\n"
      ],
      "metadata": {
        "colab": {
          "base_uri": "https://localhost:8080/"
        },
        "id": "TKMWVDfW3N6w",
        "outputId": "62a6ec48-1c63-4f23-9812-949a1a94d821"
      },
      "execution_count": 3,
      "outputs": [
        {
          "output_type": "execute_result",
          "data": {
            "text/plain": [
              "list"
            ]
          },
          "metadata": {},
          "execution_count": 3
        }
      ]
    },
    {
      "cell_type": "code",
      "source": [
        "promedio = sum(grupoa)/len(grupoa)\n",
        "print(promedio)"
      ],
      "metadata": {
        "colab": {
          "base_uri": "https://localhost:8080/"
        },
        "id": "HOC_vbMm39UQ",
        "outputId": "a9bc8b20-a774-442d-c1d8-44e0dcf40573"
      },
      "execution_count": 4,
      "outputs": [
        {
          "output_type": "stream",
          "name": "stdout",
          "text": [
            "75.33333333333333\n"
          ]
        }
      ]
    },
    {
      "cell_type": "code",
      "source": [
        "promedio2 = mean(grupoa)\n",
        "print(promedio2)"
      ],
      "metadata": {
        "id": "Qb0fP1uO4a4R"
      },
      "execution_count": null,
      "outputs": []
    },
    {
      "cell_type": "code",
      "source": [
        "mediana = median(grupoa)\n",
        "print(mediana)"
      ],
      "metadata": {
        "colab": {
          "base_uri": "https://localhost:8080/"
        },
        "id": "7rSQtyl24qHW",
        "outputId": "e1fa7316-fe40-48b4-8a08-804fb4fe7cda"
      },
      "execution_count": 5,
      "outputs": [
        {
          "output_type": "stream",
          "name": "stdout",
          "text": [
            "76.5\n"
          ]
        }
      ]
    },
    {
      "cell_type": "code",
      "source": [
        "moda = mode (grupoa)\n",
        "print(moda)"
      ],
      "metadata": {
        "colab": {
          "base_uri": "https://localhost:8080/"
        },
        "id": "K7S5fApB5W4L",
        "outputId": "3960a7f5-e0d3-4e8c-e7d5-6aa87e311842"
      },
      "execution_count": 6,
      "outputs": [
        {
          "output_type": "stream",
          "name": "stdout",
          "text": [
            "70\n"
          ]
        }
      ]
    },
    {
      "cell_type": "code",
      "source": [
        "moda2 = multimode(grupoa)\n",
        "print(moda2)"
      ],
      "metadata": {
        "colab": {
          "base_uri": "https://localhost:8080/"
        },
        "id": "QpNK0nKt5oSw",
        "outputId": "a50637e8-7e1d-4017-c9be-f9124834b4fc"
      },
      "execution_count": 7,
      "outputs": [
        {
          "output_type": "stream",
          "name": "stdout",
          "text": [
            "[70, 100]\n"
          ]
        }
      ]
    },
    {
      "cell_type": "code",
      "source": [
        "tiempos100mts = [15.10,17.20,14.69,13.27,22.15,18.17,19.15,20.11,15.10,17.20]\n",
        "print(tiempos100mts)"
      ],
      "metadata": {
        "colab": {
          "base_uri": "https://localhost:8080/"
        },
        "id": "GNFFsKgg6ADb",
        "outputId": "ee7741f4-6784-44f2-d0a3-d5a576c98da3"
      },
      "execution_count": 8,
      "outputs": [
        {
          "output_type": "stream",
          "name": "stdout",
          "text": [
            "[15.1, 17.2, 14.69, 13.27, 22.15, 18.17, 19.15, 20.11, 15.1, 17.2]\n"
          ]
        }
      ]
    },
    {
      "cell_type": "code",
      "source": [
        "print(\"El tiempo promedio de los corredores es=\",  mean (tiempos100mts))"
      ],
      "metadata": {
        "colab": {
          "base_uri": "https://localhost:8080/"
        },
        "id": "ShEtCc-76Wc9",
        "outputId": "a7ec2c57-5fca-4758-a3c9-f23ff7efc562"
      },
      "execution_count": 13,
      "outputs": [
        {
          "output_type": "stream",
          "name": "stdout",
          "text": [
            "El tiempo promedio de los corredores es= 17.214\n"
          ]
        }
      ]
    },
    {
      "cell_type": "code",
      "source": [
        "print(\"La mediana de los corredores es =\",  median(tiempos100mts))"
      ],
      "metadata": {
        "colab": {
          "base_uri": "https://localhost:8080/"
        },
        "id": "AA56YPbN7SIX",
        "outputId": "c783e31e-31f8-4a03-b4fa-ee81aeb842db"
      },
      "execution_count": 14,
      "outputs": [
        {
          "output_type": "stream",
          "name": "stdout",
          "text": [
            "La mediana de los corredores es = 17.2\n"
          ]
        }
      ]
    },
    {
      "cell_type": "code",
      "source": [
        "print(\"La moda del tiempo de los corredores es =\", mode(tiempos100mts))"
      ],
      "metadata": {
        "colab": {
          "base_uri": "https://localhost:8080/"
        },
        "id": "Aq0wHUaF7qPn",
        "outputId": "5c6ef89a-acbf-4e0a-a159-afff24d1fa71"
      },
      "execution_count": 15,
      "outputs": [
        {
          "output_type": "stream",
          "name": "stdout",
          "text": [
            "La moda del tiempo de los corredores es = 15.1\n"
          ]
        }
      ]
    },
    {
      "cell_type": "code",
      "source": [
        "print(\"La multi moda del tiempo de los corredores es =\", multimode(tiempos100mts))"
      ],
      "metadata": {
        "colab": {
          "base_uri": "https://localhost:8080/"
        },
        "id": "3FEZ_Jvh8Nrr",
        "outputId": "6d18fa21-7c37-4fb3-fbd9-01e15ed37c41"
      },
      "execution_count": 16,
      "outputs": [
        {
          "output_type": "stream",
          "name": "stdout",
          "text": [
            "La multi moda del tiempo de los corredores es = [15.1, 17.2]\n"
          ]
        }
      ]
    },
    {
      "cell_type": "code",
      "source": [
        "import random"
      ],
      "metadata": {
        "id": "fSe_LpGV8mta"
      },
      "execution_count": 19,
      "outputs": []
    },
    {
      "cell_type": "code",
      "source": [
        "fabrica1 = []\n",
        "for i in range(100):\n",
        "  numero_aleatorio = round (random.uniform(50, 100),2)\n",
        "  fabrica1.append(numero_aleatorio)\n",
        "print(fabrica1)"
      ],
      "metadata": {
        "colab": {
          "base_uri": "https://localhost:8080/"
        },
        "id": "JC69AYye9AoF",
        "outputId": "4c34f202-dcec-4a5b-9bf3-c146f37124f3"
      },
      "execution_count": 22,
      "outputs": [
        {
          "output_type": "stream",
          "name": "stdout",
          "text": [
            "[92.74, 81.3, 54.38, 98.69, 68.38, 60.64, 88.23, 57.14, 96.3, 57.18, 63.87, 99.74, 89.12, 81.41, 91.6, 99.31, 95.83, 55.79, 93.79, 78.96, 86.67, 53.12, 52.16, 84.89, 66.1, 64.25, 70.59, 87.76, 69.08, 88.76, 50.57, 58.39, 51.18, 55.14, 54.12, 64.11, 91.27, 93.35, 85.67, 54.62, 99.69, 60.2, 54.97, 78.1, 72.94, 70.47, 99.13, 80.89, 62.14, 87.5, 73.08, 52.77, 97.51, 94.28, 78.78, 98.42, 86.91, 62.84, 56.17, 81.4, 81.97, 77.17, 69.27, 99.43, 52.98, 52.16, 95.24, 81.38, 65.84, 91.89, 64.7, 63.24, 77.98, 64.72, 95.82, 84.29, 96.14, 56.98, 68.3, 67.31, 64.13, 50.25, 93.29, 98.92, 91.93, 64.04, 80.32, 97.21, 65.55, 97.52, 67.63, 94.63, 64.37, 63.86, 59.46, 71.31, 69.02, 91.29, 83.43, 64.81]\n"
          ]
        }
      ]
    },
    {
      "cell_type": "code",
      "source": [],
      "metadata": {
        "id": "tK0z0U_x-rP7"
      },
      "execution_count": null,
      "outputs": []
    }
  ]
}